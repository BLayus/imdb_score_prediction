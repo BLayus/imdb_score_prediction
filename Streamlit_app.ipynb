{
  "nbformat": 4,
  "nbformat_minor": 0,
  "metadata": {
    "colab": {
      "provenance": [],
      "collapsed_sections": [
        "p1cA48NHLc7U"
      ],
      "authorship_tag": "ABX9TyMhk/8r16KpiCn8A83nzKFB",
      "include_colab_link": true
    },
    "kernelspec": {
      "name": "python3",
      "display_name": "Python 3"
    },
    "language_info": {
      "name": "python"
    }
  },
  "cells": [
    {
      "cell_type": "markdown",
      "metadata": {
        "id": "view-in-github",
        "colab_type": "text"
      },
      "source": [
        "<a href=\"https://colab.research.google.com/github/BLayus/imdb_score_prediction/blob/main/Streamlit_app.ipynb\" target=\"_parent\"><img src=\"https://colab.research.google.com/assets/colab-badge.svg\" alt=\"Open In Colab\"/></a>"
      ]
    },
    {
      "cell_type": "markdown",
      "source": [
        "##Bibliotecas"
      ],
      "metadata": {
        "id": "QjKb0ooB26am"
      }
    },
    {
      "cell_type": "code",
      "source": [
        "!pip install streamlit\n",
        "\n",
        "!pip install --upgrade scikit-learn"
      ],
      "metadata": {
        "colab": {
          "base_uri": "https://localhost:8080/"
        },
        "id": "ZWaw76uQyoq3",
        "outputId": "91c0ad4c-67bb-4223-a86b-e82d78848e65"
      },
      "execution_count": 1,
      "outputs": [
        {
          "output_type": "stream",
          "name": "stdout",
          "text": [
            "Requirement already satisfied: streamlit in /usr/local/lib/python3.10/dist-packages (1.36.0)\n",
            "Requirement already satisfied: altair<6,>=4.0 in /usr/local/lib/python3.10/dist-packages (from streamlit) (4.2.2)\n",
            "Requirement already satisfied: blinker<2,>=1.0.0 in /usr/lib/python3/dist-packages (from streamlit) (1.4)\n",
            "Requirement already satisfied: cachetools<6,>=4.0 in /usr/local/lib/python3.10/dist-packages (from streamlit) (5.3.3)\n",
            "Requirement already satisfied: click<9,>=7.0 in /usr/local/lib/python3.10/dist-packages (from streamlit) (8.1.7)\n",
            "Requirement already satisfied: numpy<3,>=1.20 in /usr/local/lib/python3.10/dist-packages (from streamlit) (1.25.2)\n",
            "Requirement already satisfied: packaging<25,>=20 in /usr/local/lib/python3.10/dist-packages (from streamlit) (24.1)\n",
            "Requirement already satisfied: pandas<3,>=1.3.0 in /usr/local/lib/python3.10/dist-packages (from streamlit) (2.0.3)\n",
            "Requirement already satisfied: pillow<11,>=7.1.0 in /usr/local/lib/python3.10/dist-packages (from streamlit) (9.4.0)\n",
            "Requirement already satisfied: protobuf<6,>=3.20 in /usr/local/lib/python3.10/dist-packages (from streamlit) (3.20.3)\n",
            "Requirement already satisfied: pyarrow>=7.0 in /usr/local/lib/python3.10/dist-packages (from streamlit) (14.0.2)\n",
            "Requirement already satisfied: requests<3,>=2.27 in /usr/local/lib/python3.10/dist-packages (from streamlit) (2.31.0)\n",
            "Requirement already satisfied: rich<14,>=10.14.0 in /usr/local/lib/python3.10/dist-packages (from streamlit) (13.7.1)\n",
            "Requirement already satisfied: tenacity<9,>=8.1.0 in /usr/local/lib/python3.10/dist-packages (from streamlit) (8.4.2)\n",
            "Requirement already satisfied: toml<2,>=0.10.1 in /usr/local/lib/python3.10/dist-packages (from streamlit) (0.10.2)\n",
            "Requirement already satisfied: typing-extensions<5,>=4.3.0 in /usr/local/lib/python3.10/dist-packages (from streamlit) (4.12.2)\n",
            "Requirement already satisfied: gitpython!=3.1.19,<4,>=3.0.7 in /usr/local/lib/python3.10/dist-packages (from streamlit) (3.1.43)\n",
            "Requirement already satisfied: pydeck<1,>=0.8.0b4 in /usr/local/lib/python3.10/dist-packages (from streamlit) (0.9.1)\n",
            "Requirement already satisfied: tornado<7,>=6.0.3 in /usr/local/lib/python3.10/dist-packages (from streamlit) (6.3.3)\n",
            "Requirement already satisfied: watchdog<5,>=2.1.5 in /usr/local/lib/python3.10/dist-packages (from streamlit) (4.0.1)\n",
            "Requirement already satisfied: entrypoints in /usr/local/lib/python3.10/dist-packages (from altair<6,>=4.0->streamlit) (0.4)\n",
            "Requirement already satisfied: jinja2 in /usr/local/lib/python3.10/dist-packages (from altair<6,>=4.0->streamlit) (3.1.4)\n",
            "Requirement already satisfied: jsonschema>=3.0 in /usr/local/lib/python3.10/dist-packages (from altair<6,>=4.0->streamlit) (4.19.2)\n",
            "Requirement already satisfied: toolz in /usr/local/lib/python3.10/dist-packages (from altair<6,>=4.0->streamlit) (0.12.1)\n",
            "Requirement already satisfied: gitdb<5,>=4.0.1 in /usr/local/lib/python3.10/dist-packages (from gitpython!=3.1.19,<4,>=3.0.7->streamlit) (4.0.11)\n",
            "Requirement already satisfied: python-dateutil>=2.8.2 in /usr/local/lib/python3.10/dist-packages (from pandas<3,>=1.3.0->streamlit) (2.8.2)\n",
            "Requirement already satisfied: pytz>=2020.1 in /usr/local/lib/python3.10/dist-packages (from pandas<3,>=1.3.0->streamlit) (2023.4)\n",
            "Requirement already satisfied: tzdata>=2022.1 in /usr/local/lib/python3.10/dist-packages (from pandas<3,>=1.3.0->streamlit) (2024.1)\n",
            "Requirement already satisfied: charset-normalizer<4,>=2 in /usr/local/lib/python3.10/dist-packages (from requests<3,>=2.27->streamlit) (3.3.2)\n",
            "Requirement already satisfied: idna<4,>=2.5 in /usr/local/lib/python3.10/dist-packages (from requests<3,>=2.27->streamlit) (3.7)\n",
            "Requirement already satisfied: urllib3<3,>=1.21.1 in /usr/local/lib/python3.10/dist-packages (from requests<3,>=2.27->streamlit) (2.0.7)\n",
            "Requirement already satisfied: certifi>=2017.4.17 in /usr/local/lib/python3.10/dist-packages (from requests<3,>=2.27->streamlit) (2024.6.2)\n",
            "Requirement already satisfied: markdown-it-py>=2.2.0 in /usr/local/lib/python3.10/dist-packages (from rich<14,>=10.14.0->streamlit) (3.0.0)\n",
            "Requirement already satisfied: pygments<3.0.0,>=2.13.0 in /usr/local/lib/python3.10/dist-packages (from rich<14,>=10.14.0->streamlit) (2.16.1)\n",
            "Requirement already satisfied: smmap<6,>=3.0.1 in /usr/local/lib/python3.10/dist-packages (from gitdb<5,>=4.0.1->gitpython!=3.1.19,<4,>=3.0.7->streamlit) (5.0.1)\n",
            "Requirement already satisfied: MarkupSafe>=2.0 in /usr/local/lib/python3.10/dist-packages (from jinja2->altair<6,>=4.0->streamlit) (2.1.5)\n",
            "Requirement already satisfied: attrs>=22.2.0 in /usr/local/lib/python3.10/dist-packages (from jsonschema>=3.0->altair<6,>=4.0->streamlit) (23.2.0)\n",
            "Requirement already satisfied: jsonschema-specifications>=2023.03.6 in /usr/local/lib/python3.10/dist-packages (from jsonschema>=3.0->altair<6,>=4.0->streamlit) (2023.12.1)\n",
            "Requirement already satisfied: referencing>=0.28.4 in /usr/local/lib/python3.10/dist-packages (from jsonschema>=3.0->altair<6,>=4.0->streamlit) (0.35.1)\n",
            "Requirement already satisfied: rpds-py>=0.7.1 in /usr/local/lib/python3.10/dist-packages (from jsonschema>=3.0->altair<6,>=4.0->streamlit) (0.18.1)\n",
            "Requirement already satisfied: mdurl~=0.1 in /usr/local/lib/python3.10/dist-packages (from markdown-it-py>=2.2.0->rich<14,>=10.14.0->streamlit) (0.1.2)\n",
            "Requirement already satisfied: six>=1.5 in /usr/local/lib/python3.10/dist-packages (from python-dateutil>=2.8.2->pandas<3,>=1.3.0->streamlit) (1.16.0)\n",
            "Requirement already satisfied: scikit-learn in /usr/local/lib/python3.10/dist-packages (1.5.0)\n",
            "Requirement already satisfied: numpy>=1.19.5 in /usr/local/lib/python3.10/dist-packages (from scikit-learn) (1.25.2)\n",
            "Requirement already satisfied: scipy>=1.6.0 in /usr/local/lib/python3.10/dist-packages (from scikit-learn) (1.11.4)\n",
            "Requirement already satisfied: joblib>=1.2.0 in /usr/local/lib/python3.10/dist-packages (from scikit-learn) (1.4.2)\n",
            "Requirement already satisfied: threadpoolctl>=3.1.0 in /usr/local/lib/python3.10/dist-packages (from scikit-learn) (3.5.0)\n"
          ]
        }
      ]
    },
    {
      "cell_type": "code",
      "execution_count": 23,
      "metadata": {
        "id": "9-E1LrgaybCP"
      },
      "outputs": [],
      "source": [
        "# Import Streamlit\n",
        "import streamlit as st\n",
        "\n",
        "# Import libraries\n",
        "import pandas as pd\n",
        "import numpy as np\n",
        "import re\n",
        "from datetime import datetime\n",
        "import datetime as dt\n",
        "import requests\n",
        "\n",
        "# Machine Learning Libraries\n",
        "from sklearn.impute import SimpleImputer\n",
        "from sklearn.preprocessing import OneHotEncoder, TargetEncoder\n",
        "from sklearn.preprocessing import FunctionTransformer\n",
        "\n",
        "from sklearn.pipeline import Pipeline\n",
        "from sklearn.pipeline import make_pipeline\n",
        "\n",
        "from sklearn.compose import make_column_transformer\n",
        "\n",
        "from sklearn.model_selection import train_test_split\n",
        "\n",
        "from xgboost import XGBRegressor\n",
        "\n",
        "import pickle\n",
        "\n"
      ]
    },
    {
      "cell_type": "markdown",
      "source": [
        "## Dataset"
      ],
      "metadata": {
        "id": "C9kOR2Bj3lTf"
      }
    },
    {
      "cell_type": "code",
      "source": [
        "st.set_page_config( layout= 'wide')\n",
        "\n",
        "@st.cache_data\n",
        "def get_data (path):\n",
        "  df = pd.read_csv(path)\n",
        "  return df"
      ],
      "metadata": {
        "id": "O4uN6wvVC7KY",
        "colab": {
          "base_uri": "https://localhost:8080/"
        },
        "outputId": "766bb321-d683-4c65-e915-e61a0d7aa1ae"
      },
      "execution_count": 24,
      "outputs": [
        {
          "output_type": "stream",
          "name": "stderr",
          "text": [
            "2024-07-02 19:41:50.117 No runtime found, using MemoryCacheStorageManager\n"
          ]
        }
      ]
    },
    {
      "cell_type": "code",
      "source": [
        "# get data\n",
        "\n",
        "path = 'https://raw.githubusercontent.com/BLayus/imdb_score_prediction/main/dataset/Dataset_imdb.csv'\n",
        "df = get_data(path)"
      ],
      "metadata": {
        "id": "XveE2d3NsNEC"
      },
      "execution_count": 25,
      "outputs": []
    },
    {
      "cell_type": "markdown",
      "source": [
        "##Pre Processing"
      ],
      "metadata": {
        "id": "p1cA48NHLc7U"
      }
    },
    {
      "cell_type": "code",
      "source": [
        "# The 'Apollo 13' movie has no date, in official website, I found that release year was 1995\n",
        "# Using Loc to find and replace the value\n",
        "\n",
        "df.loc[df['Released_Year'] == 'PG', 'Released_Year'] = 1995"
      ],
      "metadata": {
        "id": "Wuz4pMZN6rX5"
      },
      "execution_count": 26,
      "outputs": []
    },
    {
      "cell_type": "code",
      "source": [
        "# Convert Released_Year to datetime year only\n",
        "\n",
        "def convert_datetime(df):\n",
        "  df['Released_Year']= pd.to_datetime(df['Released_Year'], format= '%Y', errors= 'coerce').dt.year\n",
        "  return df"
      ],
      "metadata": {
        "id": "3PDY5oK9LcmM"
      },
      "execution_count": 27,
      "outputs": []
    },
    {
      "cell_type": "code",
      "source": [
        "# Converting strings in column \"Runtime\" to int 64 and removing substring 'min'\n",
        "\n",
        "def convert_runtime(df):\n",
        "  if df['Runtime'].dtype == 'object':\n",
        "    df['Runtime']= df['Runtime'].str.extract('(\\d+)', expand=False).astype('int64')\n",
        "  return df"
      ],
      "metadata": {
        "id": "FfwtBk_RMBmZ"
      },
      "execution_count": 28,
      "outputs": []
    },
    {
      "cell_type": "code",
      "source": [
        "# Replace commas in Gross strings\n",
        "\n",
        "def convert_gross(df):\n",
        "  df['Gross'] = df['Gross'].astype(str)\n",
        "  df['Gross']= df['Gross'].str.replace(r'[^\\w\\s]', '', regex= True)\n",
        "\n",
        "  # Converting gross type to numerical and fill NaN\n",
        "\n",
        "  df['Gross'] = pd.to_numeric(df['Gross'], errors='coerce').fillna(0).astype('int64')\n",
        "  return df"
      ],
      "metadata": {
        "id": "qKTOegt6MTGo"
      },
      "execution_count": 29,
      "outputs": []
    },
    {
      "cell_type": "code",
      "source": [
        "# Certificate column, imput missing with mode\n",
        "\n",
        "def simple_imputer(df):\n",
        "  imputer= SimpleImputer(missing_values= np.nan, strategy= 'most_frequent')\n",
        "  data= df[['Certificate']]\n",
        "  imputer= imputer.fit(data)\n",
        "  df['Certificate']= imputer.transform(data).flatten()\n",
        "\n",
        "  # Meta Score column, imput with median\n",
        "\n",
        "  imputer= SimpleImputer(missing_values= np.nan, strategy= 'median')\n",
        "  data= df[['Meta_score']]\n",
        "  imputer= imputer.fit(data)\n",
        "  df['Meta_score']= imputer.transform(data).flatten()\n",
        "  return df"
      ],
      "metadata": {
        "id": "Ux5NlADNMnBj"
      },
      "execution_count": 30,
      "outputs": []
    },
    {
      "cell_type": "code",
      "source": [
        "# Certificate grouping and converting to numerical info\n",
        "# As this grouping has low cardinality, we can use One Hot Encoder\n",
        "\n",
        "def certificate_groups(df):\n",
        "  df['Certificate']= df['Certificate'].apply(lambda x: 'all_age_group' if x == ['U', 'G', 'Passed', 'Approved']\n",
        "                                             else 'accompanied_age_group' if x == ['PG', 'TV-PG', 'U/A', 'GP']\n",
        "                                             else '14_years_group' if x == ['PG-13', 'TV-14']\n",
        "                                             else '16_years_group' if x == ['16', 'R']\n",
        "                                             else 'adult_group')\n",
        "  return df"
      ],
      "metadata": {
        "id": "cgTaklCnNTB1"
      },
      "execution_count": 31,
      "outputs": []
    },
    {
      "cell_type": "code",
      "source": [
        "# Convert column dtypes\n",
        "\n",
        "def convert_dtypes(df):\n",
        "  df['Released_Year'] = df['Released_Year'].astype(int)\n",
        "  df['Gross'] = df['Gross'].astype(int)\n",
        "  return df"
      ],
      "metadata": {
        "id": "6ySDqztUYIww"
      },
      "execution_count": 32,
      "outputs": []
    },
    {
      "cell_type": "code",
      "source": [
        "# Drop Unnecessary columns\n",
        "\n",
        "def drop_cols(df):\n",
        "  drop_cols= ['Series_Title', 'Overview']\n",
        "  df.drop(columns= drop_cols, inplace= True)\n",
        "  return df"
      ],
      "metadata": {
        "id": "36Y9QatkNqmr"
      },
      "execution_count": 33,
      "outputs": []
    },
    {
      "cell_type": "code",
      "source": [
        "# Convert column dtypes\n",
        "\n",
        "def convert_dtypes(df):\n",
        "  df['Released_Year'] = df['Released_Year'].astype(int)\n",
        "  df['Gross'] = df['Gross'].astype(int)\n",
        "  return df"
      ],
      "metadata": {
        "id": "VyZqMTxCIWWM"
      },
      "execution_count": 34,
      "outputs": []
    },
    {
      "cell_type": "code",
      "source": [
        "# Drop Unnecessary columns\n",
        "\n",
        "def drop_cols(df):\n",
        "  drop_cols= ['Series_Title', 'Overview']\n",
        "  df.drop(columns= drop_cols, inplace= True)\n",
        "  return df"
      ],
      "metadata": {
        "id": "Y5C7rQ9BIWWO"
      },
      "execution_count": 35,
      "outputs": []
    },
    {
      "cell_type": "code",
      "source": [
        "# Create a function with with steps before encoding\n",
        "\n",
        "def pre_encoder(df):\n",
        "  convert_datetime(df)\n",
        "  convert_runtime(df)\n",
        "  convert_gross(df)\n",
        "  simple_imputer(df)\n",
        "  certificate_groups(df)\n",
        "  drop_cols(df)\n",
        "  convert_dtypes(df)\n",
        "\n",
        "  return(df)\n"
      ],
      "metadata": {
        "id": "PylLeV48COLi"
      },
      "execution_count": 36,
      "outputs": []
    },
    {
      "cell_type": "code",
      "source": [
        "# Apply pre process function\n",
        "\n",
        "pre_encoder(df)\n",
        "\n",
        "df.sample(3)"
      ],
      "metadata": {
        "colab": {
          "base_uri": "https://localhost:8080/",
          "height": 0
        },
        "id": "LVqm2AtnEafJ",
        "outputId": "f25ceb07-1057-4ec8-9b37-1300f1c5a4e6"
      },
      "execution_count": 37,
      "outputs": [
        {
          "output_type": "execute_result",
          "data": {
            "text/plain": [
              "     Unnamed: 0  Released_Year  Certificate  Runtime                    Genre  \\\n",
              "744         745           2013  adult_group       91  Drama, Sci-Fi, Thriller   \n",
              "793         794           2001  adult_group       95     Comedy, Drama, Music   \n",
              "419         420           1972  adult_group      138        Mystery, Thriller   \n",
              "\n",
              "     IMDB_Rating  Meta_score               Director                  Star1  \\\n",
              "744          7.7        96.0         Alfonso Cuarón         Sandra Bullock   \n",
              "793          7.7        85.0  John Cameron Mitchell  John Cameron Mitchell   \n",
              "419          8.0        79.0   Joseph L. Mankiewicz       Laurence Olivier   \n",
              "\n",
              "              Star2           Star3               Star4  No_of_Votes  \\\n",
              "744  George Clooney       Ed Harris    Orto Ignatiussen       769145   \n",
              "793     Miriam Shor   Stephen Trask  Theodore Liscinski        31957   \n",
              "419   Michael Caine  Alec Cawthorne       John Matthews        44748   \n",
              "\n",
              "         Gross  \n",
              "744  274092705  \n",
              "793    3029081  \n",
              "419    4081254  "
            ],
            "text/html": [
              "\n",
              "  <div id=\"df-3370d121-3875-4199-a29a-0a5ff894b446\" class=\"colab-df-container\">\n",
              "    <div>\n",
              "<style scoped>\n",
              "    .dataframe tbody tr th:only-of-type {\n",
              "        vertical-align: middle;\n",
              "    }\n",
              "\n",
              "    .dataframe tbody tr th {\n",
              "        vertical-align: top;\n",
              "    }\n",
              "\n",
              "    .dataframe thead th {\n",
              "        text-align: right;\n",
              "    }\n",
              "</style>\n",
              "<table border=\"1\" class=\"dataframe\">\n",
              "  <thead>\n",
              "    <tr style=\"text-align: right;\">\n",
              "      <th></th>\n",
              "      <th>Unnamed: 0</th>\n",
              "      <th>Released_Year</th>\n",
              "      <th>Certificate</th>\n",
              "      <th>Runtime</th>\n",
              "      <th>Genre</th>\n",
              "      <th>IMDB_Rating</th>\n",
              "      <th>Meta_score</th>\n",
              "      <th>Director</th>\n",
              "      <th>Star1</th>\n",
              "      <th>Star2</th>\n",
              "      <th>Star3</th>\n",
              "      <th>Star4</th>\n",
              "      <th>No_of_Votes</th>\n",
              "      <th>Gross</th>\n",
              "    </tr>\n",
              "  </thead>\n",
              "  <tbody>\n",
              "    <tr>\n",
              "      <th>744</th>\n",
              "      <td>745</td>\n",
              "      <td>2013</td>\n",
              "      <td>adult_group</td>\n",
              "      <td>91</td>\n",
              "      <td>Drama, Sci-Fi, Thriller</td>\n",
              "      <td>7.7</td>\n",
              "      <td>96.0</td>\n",
              "      <td>Alfonso Cuarón</td>\n",
              "      <td>Sandra Bullock</td>\n",
              "      <td>George Clooney</td>\n",
              "      <td>Ed Harris</td>\n",
              "      <td>Orto Ignatiussen</td>\n",
              "      <td>769145</td>\n",
              "      <td>274092705</td>\n",
              "    </tr>\n",
              "    <tr>\n",
              "      <th>793</th>\n",
              "      <td>794</td>\n",
              "      <td>2001</td>\n",
              "      <td>adult_group</td>\n",
              "      <td>95</td>\n",
              "      <td>Comedy, Drama, Music</td>\n",
              "      <td>7.7</td>\n",
              "      <td>85.0</td>\n",
              "      <td>John Cameron Mitchell</td>\n",
              "      <td>John Cameron Mitchell</td>\n",
              "      <td>Miriam Shor</td>\n",
              "      <td>Stephen Trask</td>\n",
              "      <td>Theodore Liscinski</td>\n",
              "      <td>31957</td>\n",
              "      <td>3029081</td>\n",
              "    </tr>\n",
              "    <tr>\n",
              "      <th>419</th>\n",
              "      <td>420</td>\n",
              "      <td>1972</td>\n",
              "      <td>adult_group</td>\n",
              "      <td>138</td>\n",
              "      <td>Mystery, Thriller</td>\n",
              "      <td>8.0</td>\n",
              "      <td>79.0</td>\n",
              "      <td>Joseph L. Mankiewicz</td>\n",
              "      <td>Laurence Olivier</td>\n",
              "      <td>Michael Caine</td>\n",
              "      <td>Alec Cawthorne</td>\n",
              "      <td>John Matthews</td>\n",
              "      <td>44748</td>\n",
              "      <td>4081254</td>\n",
              "    </tr>\n",
              "  </tbody>\n",
              "</table>\n",
              "</div>\n",
              "    <div class=\"colab-df-buttons\">\n",
              "\n",
              "  <div class=\"colab-df-container\">\n",
              "    <button class=\"colab-df-convert\" onclick=\"convertToInteractive('df-3370d121-3875-4199-a29a-0a5ff894b446')\"\n",
              "            title=\"Convert this dataframe to an interactive table.\"\n",
              "            style=\"display:none;\">\n",
              "\n",
              "  <svg xmlns=\"http://www.w3.org/2000/svg\" height=\"24px\" viewBox=\"0 -960 960 960\">\n",
              "    <path d=\"M120-120v-720h720v720H120Zm60-500h600v-160H180v160Zm220 220h160v-160H400v160Zm0 220h160v-160H400v160ZM180-400h160v-160H180v160Zm440 0h160v-160H620v160ZM180-180h160v-160H180v160Zm440 0h160v-160H620v160Z\"/>\n",
              "  </svg>\n",
              "    </button>\n",
              "\n",
              "  <style>\n",
              "    .colab-df-container {\n",
              "      display:flex;\n",
              "      gap: 12px;\n",
              "    }\n",
              "\n",
              "    .colab-df-convert {\n",
              "      background-color: #E8F0FE;\n",
              "      border: none;\n",
              "      border-radius: 50%;\n",
              "      cursor: pointer;\n",
              "      display: none;\n",
              "      fill: #1967D2;\n",
              "      height: 32px;\n",
              "      padding: 0 0 0 0;\n",
              "      width: 32px;\n",
              "    }\n",
              "\n",
              "    .colab-df-convert:hover {\n",
              "      background-color: #E2EBFA;\n",
              "      box-shadow: 0px 1px 2px rgba(60, 64, 67, 0.3), 0px 1px 3px 1px rgba(60, 64, 67, 0.15);\n",
              "      fill: #174EA6;\n",
              "    }\n",
              "\n",
              "    .colab-df-buttons div {\n",
              "      margin-bottom: 4px;\n",
              "    }\n",
              "\n",
              "    [theme=dark] .colab-df-convert {\n",
              "      background-color: #3B4455;\n",
              "      fill: #D2E3FC;\n",
              "    }\n",
              "\n",
              "    [theme=dark] .colab-df-convert:hover {\n",
              "      background-color: #434B5C;\n",
              "      box-shadow: 0px 1px 3px 1px rgba(0, 0, 0, 0.15);\n",
              "      filter: drop-shadow(0px 1px 2px rgba(0, 0, 0, 0.3));\n",
              "      fill: #FFFFFF;\n",
              "    }\n",
              "  </style>\n",
              "\n",
              "    <script>\n",
              "      const buttonEl =\n",
              "        document.querySelector('#df-3370d121-3875-4199-a29a-0a5ff894b446 button.colab-df-convert');\n",
              "      buttonEl.style.display =\n",
              "        google.colab.kernel.accessAllowed ? 'block' : 'none';\n",
              "\n",
              "      async function convertToInteractive(key) {\n",
              "        const element = document.querySelector('#df-3370d121-3875-4199-a29a-0a5ff894b446');\n",
              "        const dataTable =\n",
              "          await google.colab.kernel.invokeFunction('convertToInteractive',\n",
              "                                                    [key], {});\n",
              "        if (!dataTable) return;\n",
              "\n",
              "        const docLinkHtml = 'Like what you see? Visit the ' +\n",
              "          '<a target=\"_blank\" href=https://colab.research.google.com/notebooks/data_table.ipynb>data table notebook</a>'\n",
              "          + ' to learn more about interactive tables.';\n",
              "        element.innerHTML = '';\n",
              "        dataTable['output_type'] = 'display_data';\n",
              "        await google.colab.output.renderOutput(dataTable, element);\n",
              "        const docLink = document.createElement('div');\n",
              "        docLink.innerHTML = docLinkHtml;\n",
              "        element.appendChild(docLink);\n",
              "      }\n",
              "    </script>\n",
              "  </div>\n",
              "\n",
              "\n",
              "<div id=\"df-79e98284-45e6-4fc3-8d36-eccbdc11503b\">\n",
              "  <button class=\"colab-df-quickchart\" onclick=\"quickchart('df-79e98284-45e6-4fc3-8d36-eccbdc11503b')\"\n",
              "            title=\"Suggest charts\"\n",
              "            style=\"display:none;\">\n",
              "\n",
              "<svg xmlns=\"http://www.w3.org/2000/svg\" height=\"24px\"viewBox=\"0 0 24 24\"\n",
              "     width=\"24px\">\n",
              "    <g>\n",
              "        <path d=\"M19 3H5c-1.1 0-2 .9-2 2v14c0 1.1.9 2 2 2h14c1.1 0 2-.9 2-2V5c0-1.1-.9-2-2-2zM9 17H7v-7h2v7zm4 0h-2V7h2v10zm4 0h-2v-4h2v4z\"/>\n",
              "    </g>\n",
              "</svg>\n",
              "  </button>\n",
              "\n",
              "<style>\n",
              "  .colab-df-quickchart {\n",
              "      --bg-color: #E8F0FE;\n",
              "      --fill-color: #1967D2;\n",
              "      --hover-bg-color: #E2EBFA;\n",
              "      --hover-fill-color: #174EA6;\n",
              "      --disabled-fill-color: #AAA;\n",
              "      --disabled-bg-color: #DDD;\n",
              "  }\n",
              "\n",
              "  [theme=dark] .colab-df-quickchart {\n",
              "      --bg-color: #3B4455;\n",
              "      --fill-color: #D2E3FC;\n",
              "      --hover-bg-color: #434B5C;\n",
              "      --hover-fill-color: #FFFFFF;\n",
              "      --disabled-bg-color: #3B4455;\n",
              "      --disabled-fill-color: #666;\n",
              "  }\n",
              "\n",
              "  .colab-df-quickchart {\n",
              "    background-color: var(--bg-color);\n",
              "    border: none;\n",
              "    border-radius: 50%;\n",
              "    cursor: pointer;\n",
              "    display: none;\n",
              "    fill: var(--fill-color);\n",
              "    height: 32px;\n",
              "    padding: 0;\n",
              "    width: 32px;\n",
              "  }\n",
              "\n",
              "  .colab-df-quickchart:hover {\n",
              "    background-color: var(--hover-bg-color);\n",
              "    box-shadow: 0 1px 2px rgba(60, 64, 67, 0.3), 0 1px 3px 1px rgba(60, 64, 67, 0.15);\n",
              "    fill: var(--button-hover-fill-color);\n",
              "  }\n",
              "\n",
              "  .colab-df-quickchart-complete:disabled,\n",
              "  .colab-df-quickchart-complete:disabled:hover {\n",
              "    background-color: var(--disabled-bg-color);\n",
              "    fill: var(--disabled-fill-color);\n",
              "    box-shadow: none;\n",
              "  }\n",
              "\n",
              "  .colab-df-spinner {\n",
              "    border: 2px solid var(--fill-color);\n",
              "    border-color: transparent;\n",
              "    border-bottom-color: var(--fill-color);\n",
              "    animation:\n",
              "      spin 1s steps(1) infinite;\n",
              "  }\n",
              "\n",
              "  @keyframes spin {\n",
              "    0% {\n",
              "      border-color: transparent;\n",
              "      border-bottom-color: var(--fill-color);\n",
              "      border-left-color: var(--fill-color);\n",
              "    }\n",
              "    20% {\n",
              "      border-color: transparent;\n",
              "      border-left-color: var(--fill-color);\n",
              "      border-top-color: var(--fill-color);\n",
              "    }\n",
              "    30% {\n",
              "      border-color: transparent;\n",
              "      border-left-color: var(--fill-color);\n",
              "      border-top-color: var(--fill-color);\n",
              "      border-right-color: var(--fill-color);\n",
              "    }\n",
              "    40% {\n",
              "      border-color: transparent;\n",
              "      border-right-color: var(--fill-color);\n",
              "      border-top-color: var(--fill-color);\n",
              "    }\n",
              "    60% {\n",
              "      border-color: transparent;\n",
              "      border-right-color: var(--fill-color);\n",
              "    }\n",
              "    80% {\n",
              "      border-color: transparent;\n",
              "      border-right-color: var(--fill-color);\n",
              "      border-bottom-color: var(--fill-color);\n",
              "    }\n",
              "    90% {\n",
              "      border-color: transparent;\n",
              "      border-bottom-color: var(--fill-color);\n",
              "    }\n",
              "  }\n",
              "</style>\n",
              "\n",
              "  <script>\n",
              "    async function quickchart(key) {\n",
              "      const quickchartButtonEl =\n",
              "        document.querySelector('#' + key + ' button');\n",
              "      quickchartButtonEl.disabled = true;  // To prevent multiple clicks.\n",
              "      quickchartButtonEl.classList.add('colab-df-spinner');\n",
              "      try {\n",
              "        const charts = await google.colab.kernel.invokeFunction(\n",
              "            'suggestCharts', [key], {});\n",
              "      } catch (error) {\n",
              "        console.error('Error during call to suggestCharts:', error);\n",
              "      }\n",
              "      quickchartButtonEl.classList.remove('colab-df-spinner');\n",
              "      quickchartButtonEl.classList.add('colab-df-quickchart-complete');\n",
              "    }\n",
              "    (() => {\n",
              "      let quickchartButtonEl =\n",
              "        document.querySelector('#df-79e98284-45e6-4fc3-8d36-eccbdc11503b button');\n",
              "      quickchartButtonEl.style.display =\n",
              "        google.colab.kernel.accessAllowed ? 'block' : 'none';\n",
              "    })();\n",
              "  </script>\n",
              "</div>\n",
              "\n",
              "    </div>\n",
              "  </div>\n"
            ],
            "application/vnd.google.colaboratory.intrinsic+json": {
              "type": "dataframe",
              "summary": "{\n  \"name\": \"df\",\n  \"rows\": 3,\n  \"fields\": [\n    {\n      \"column\": \"Unnamed: 0\",\n      \"properties\": {\n        \"dtype\": \"number\",\n        \"std\": 203,\n        \"min\": 420,\n        \"max\": 794,\n        \"num_unique_values\": 3,\n        \"samples\": [\n          745,\n          794,\n          420\n        ],\n        \"semantic_type\": \"\",\n        \"description\": \"\"\n      }\n    },\n    {\n      \"column\": \"Released_Year\",\n      \"properties\": {\n        \"dtype\": \"number\",\n        \"std\": 21,\n        \"min\": 1972,\n        \"max\": 2013,\n        \"num_unique_values\": 3,\n        \"samples\": [\n          2013,\n          2001,\n          1972\n        ],\n        \"semantic_type\": \"\",\n        \"description\": \"\"\n      }\n    },\n    {\n      \"column\": \"Certificate\",\n      \"properties\": {\n        \"dtype\": \"category\",\n        \"num_unique_values\": 1,\n        \"samples\": [\n          \"adult_group\"\n        ],\n        \"semantic_type\": \"\",\n        \"description\": \"\"\n      }\n    },\n    {\n      \"column\": \"Runtime\",\n      \"properties\": {\n        \"dtype\": \"number\",\n        \"std\": 26,\n        \"min\": 91,\n        \"max\": 138,\n        \"num_unique_values\": 3,\n        \"samples\": [\n          91\n        ],\n        \"semantic_type\": \"\",\n        \"description\": \"\"\n      }\n    },\n    {\n      \"column\": \"Genre\",\n      \"properties\": {\n        \"dtype\": \"string\",\n        \"num_unique_values\": 3,\n        \"samples\": [\n          \"Drama, Sci-Fi, Thriller\"\n        ],\n        \"semantic_type\": \"\",\n        \"description\": \"\"\n      }\n    },\n    {\n      \"column\": \"IMDB_Rating\",\n      \"properties\": {\n        \"dtype\": \"number\",\n        \"std\": 0.17320508075688762,\n        \"min\": 7.7,\n        \"max\": 8.0,\n        \"num_unique_values\": 2,\n        \"samples\": [\n          8.0\n        ],\n        \"semantic_type\": \"\",\n        \"description\": \"\"\n      }\n    },\n    {\n      \"column\": \"Meta_score\",\n      \"properties\": {\n        \"dtype\": \"number\",\n        \"std\": 8.621678104251709,\n        \"min\": 79.0,\n        \"max\": 96.0,\n        \"num_unique_values\": 3,\n        \"samples\": [\n          96.0\n        ],\n        \"semantic_type\": \"\",\n        \"description\": \"\"\n      }\n    },\n    {\n      \"column\": \"Director\",\n      \"properties\": {\n        \"dtype\": \"string\",\n        \"num_unique_values\": 3,\n        \"samples\": [\n          \"Alfonso Cuar\\u00f3n\"\n        ],\n        \"semantic_type\": \"\",\n        \"description\": \"\"\n      }\n    },\n    {\n      \"column\": \"Star1\",\n      \"properties\": {\n        \"dtype\": \"string\",\n        \"num_unique_values\": 3,\n        \"samples\": [\n          \"Sandra Bullock\"\n        ],\n        \"semantic_type\": \"\",\n        \"description\": \"\"\n      }\n    },\n    {\n      \"column\": \"Star2\",\n      \"properties\": {\n        \"dtype\": \"string\",\n        \"num_unique_values\": 3,\n        \"samples\": [\n          \"George Clooney\"\n        ],\n        \"semantic_type\": \"\",\n        \"description\": \"\"\n      }\n    },\n    {\n      \"column\": \"Star3\",\n      \"properties\": {\n        \"dtype\": \"string\",\n        \"num_unique_values\": 3,\n        \"samples\": [\n          \"Ed Harris\"\n        ],\n        \"semantic_type\": \"\",\n        \"description\": \"\"\n      }\n    },\n    {\n      \"column\": \"Star4\",\n      \"properties\": {\n        \"dtype\": \"string\",\n        \"num_unique_values\": 3,\n        \"samples\": [\n          \"Orto Ignatiussen\"\n        ],\n        \"semantic_type\": \"\",\n        \"description\": \"\"\n      }\n    },\n    {\n      \"column\": \"No_of_Votes\",\n      \"properties\": {\n        \"dtype\": \"number\",\n        \"std\": 421971,\n        \"min\": 31957,\n        \"max\": 769145,\n        \"num_unique_values\": 3,\n        \"samples\": [\n          769145\n        ],\n        \"semantic_type\": \"\",\n        \"description\": \"\"\n      }\n    },\n    {\n      \"column\": \"Gross\",\n      \"properties\": {\n        \"dtype\": \"number\",\n        \"std\": 156195806,\n        \"min\": 3029081,\n        \"max\": 274092705,\n        \"num_unique_values\": 3,\n        \"samples\": [\n          274092705\n        ],\n        \"semantic_type\": \"\",\n        \"description\": \"\"\n      }\n    }\n  ]\n}"
            }
          },
          "metadata": {},
          "execution_count": 37
        }
      ]
    },
    {
      "cell_type": "code",
      "source": [
        "# Defining columns to encode\n",
        "\n",
        "ohe_cols= ['Certificate']\n",
        "\n",
        "te_cols= ['Released_Year', 'Genre', 'Director', 'Star1', 'Star2', 'Star3', 'Star4']\n",
        "\n",
        "# Instatiate the encoders\n",
        "\n",
        "target_enc = TargetEncoder(smooth='auto', target_type='continuous')\n",
        "\n",
        "ohe_enc = OneHotEncoder(handle_unknown='ignore')"
      ],
      "metadata": {
        "id": "oMo1-QLxOLka"
      },
      "execution_count": 38,
      "outputs": []
    },
    {
      "cell_type": "code",
      "source": [
        "# Making column transformer\n",
        "\n",
        "col_trans= make_column_transformer(\n",
        "    (ohe_enc, ohe_cols),\n",
        "    (target_enc, te_cols),\n",
        "    remainder= 'passthrough')\n",
        "\n"
      ],
      "metadata": {
        "id": "yYCqpdpoOnIQ"
      },
      "execution_count": 39,
      "outputs": []
    },
    {
      "cell_type": "code",
      "source": [
        "# Creating a pipeline to encode\n",
        "\n",
        "def passthrough_func(X):\n",
        "    print(\"Data after ColumnTransformer:\", type(X), X.shape)\n",
        "    df= pd.DataFrame(X)\n",
        "    for col in df.columns:\n",
        "      df[col] = df[col].astype(float)\n",
        "    return df\n",
        "\n",
        "enc_pipeline= make_pipeline(col_trans,\n",
        "                        FunctionTransformer(passthrough_func, validate=False)\n",
        "                        )"
      ],
      "metadata": {
        "id": "83R49s5uOc9U"
      },
      "execution_count": 40,
      "outputs": []
    },
    {
      "cell_type": "markdown",
      "source": [
        "##Streamlit APP"
      ],
      "metadata": {
        "id": "Q5TUlvJO2_tw"
      }
    },
    {
      "cell_type": "code",
      "source": [
        "# Create a Streamlit app\n",
        "\n",
        "st.title(\"IMDB Rating Prediction API\")\n",
        "\n",
        "st.write(\"Enter the movie details to predict the IMDB rating:\")"
      ],
      "metadata": {
        "id": "3Z3--1UBywd_"
      },
      "execution_count": 41,
      "outputs": []
    },
    {
      "cell_type": "code",
      "source": [
        "# Create a form to input movie data\n",
        "\n",
        "with st.form('Preencha os Dados'):\n",
        "    Series_Title = st.text_input('Title')\n",
        "    Released_Year = st.number_input('Year (YYYY format)')\n",
        "    Certificate = st.text_input('Certificate')\n",
        "    Runtime = st.number_input('Runtime (in minutes)')\n",
        "    Genre = st.text_input('Genre')\n",
        "    Meta_Score = st.number_input('Meta Score')\n",
        "    Director = st.selectbox('Director', df['Director'].unique())\n",
        "    Star_1 = st.selectbox('Star 1', df['Star1'].unique())\n",
        "    Star_2 = st.selectbox('Star 2', df['Star2'].unique())\n",
        "    Star_3 = st.selectbox('Star 3', df['Star3'].unique())\n",
        "    Star_4 = st.selectbox('Star 4', df['Star4'].unique())\n",
        "    No_of_Votes = st.number_input('No of Votes')\n",
        "    Gross = st.number_input('Gross')\n",
        "\n",
        "df_pred= pd.DataFrame({'Released_Year' :[ Released_Year],\n",
        "                        'Certificate' : [Certificate],\n",
        "                        'Runtime' : [Runtime],\n",
        "                        'Genre' : [Genre],\n",
        "                        'Meta_Score' : [Meta_Score],\n",
        "                        'Director' : [Director],\n",
        "                        'Star_1' : [Star_1],\n",
        "                        'Star_2' : [Star_2],\n",
        "                        'Star_3' : [Star_3],\n",
        "                        'Star_4' : [Star_4],\n",
        "                        'No_of_Votes' : [No_of_Votes],\n",
        "                        'Gross' : [Gross]\n",
        "                        })\n"
      ],
      "metadata": {
        "id": "UshK04hFzM_W",
        "colab": {
          "base_uri": "https://localhost:8080/"
        },
        "outputId": "b0e925d5-5de1-4098-efa0-72a876ae0101"
      },
      "execution_count": 42,
      "outputs": [
        {
          "output_type": "stream",
          "name": "stderr",
          "text": [
            "2024-07-02 19:42:16.740 Session state does not function when running a script without `streamlit run`\n"
          ]
        }
      ]
    },
    {
      "cell_type": "code",
      "source": [
        "# Opening saved pickle file\n",
        "\n",
        "pickle_url = 'https://github.com/BLayus/imdb_score_prediction/raw/main/Model/model_pickle'\n",
        "response = requests.get(pickle_url)\n",
        "with open('model_pickle', 'wb') as f:\n",
        "    f.write(response.content)\n",
        "\n",
        "with open('model_pickle', 'rb') as f:\n",
        "    mp = pickle.load(f)\n",
        "\n",
        ""
      ],
      "metadata": {
        "id": "ThPLcp9K4Hqe"
      },
      "execution_count": 43,
      "outputs": []
    },
    {
      "cell_type": "code",
      "source": [
        "# Create a button to make the prediction\n",
        "\n",
        "if st.button(\"Predict IMDB Rating\"):\n",
        "\n",
        "  # Check columns\n",
        "  for col in df:\n",
        "    if col not in df_pred:\n",
        "      df_pred[col] = 1\n",
        "  else:\n",
        "    pass\n",
        "  # Pre process input data point\n",
        "  pre_encoder(def_pred)\n",
        "\n",
        "  #  Define X and Target\n",
        "  x_p= df_pred.drop(columns= ['IMDB_Rating'], axis= 1)\n",
        "  y_p= df_pred['IMDB_Rating']\n",
        "\n",
        "  # Applying pipeline\n",
        "  x_p = enc_pipeline.transform(x_p)\n",
        "\n",
        "  # Make prediction with pickle\n",
        "  mp.predict(x_p)\n",
        "\n",
        "\n",
        "\n"
      ],
      "metadata": {
        "id": "beEsjIl0wABC"
      },
      "execution_count": 44,
      "outputs": []
    }
  ]
}